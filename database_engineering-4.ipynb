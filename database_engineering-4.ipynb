{
 "cells": [
  {
   "cell_type": "code",
   "execution_count": 1,
   "metadata": {},
   "outputs": [],
   "source": [
    "# Dependencies\n",
    "# ----------------------------------\n",
    "\n",
    "import pandas as pd\n",
    "# Imports the method used for connecting to DBs\n",
    "from sqlalchemy import create_engine\n",
    "\n",
    "# Imports the methods needed to abstract classes into tables\n",
    "from sqlalchemy.ext.declarative import declarative_base\n",
    "\n",
    "# Allow us to declare column types\n",
    "from sqlalchemy import Column, Integer, String, Float, inspect\n",
    "from sqlalchemy import Date as dt\n",
    "\n",
    "# PyMySQL \n",
    "import pymysql\n",
    "pymysql.install_as_MySQLdb()\n",
    "\n",
    "Base = declarative_base()"
   ]
  },
  {
   "cell_type": "code",
   "execution_count": 2,
   "metadata": {},
   "outputs": [
    {
     "name": "stdout",
     "output_type": "stream",
     "text": [
      "clean_measurements.csv     hawaii.sqlite\r\n",
      "climate_analysis.ipynb     \u001b[31mhawaii_measurements.csv\u001b[m\u001b[m\r\n",
      "data_engineering.ipynb     \u001b[31mhawaii_stations.csv\u001b[m\u001b[m\r\n",
      "database_engineering.ipynb\r\n"
     ]
    }
   ],
   "source": [
    "!ls"
   ]
  },
  {
   "cell_type": "code",
   "execution_count": 3,
   "metadata": {},
   "outputs": [],
   "source": [
    "class measurements(Base):\n",
    "    __tablename__ = 'Measurements'\n",
    "    id = Column(Integer, primary_key=True)\n",
    "    Station = Column(String(255))\n",
    "    Date = Column(dt)\n",
    "    Precipitation = Column(Float(3,2))\n",
    "    TOBS = Column(Integer)\n",
    "    \n",
    "    \n",
    "class stations(Base):\n",
    "    __tablename__ = 'Stations'\n",
    "    id = Column(Integer, primary_key=True)\n",
    "    Station = Column(String(255))\n",
    "    Name = Column(String(255))\n",
    "    Latitude = Column(Float(8,5))\n",
    "    Longitude = Column(Float(8,5))\n",
    "    Elevation = Column(Float(4,1))\n",
    "    \n",
    "    "
   ]
  },
  {
   "cell_type": "code",
   "execution_count": 4,
   "metadata": {},
   "outputs": [],
   "source": [
    "engine = create_engine(\"sqlite:///hawaii.sqlite\")\n",
    "conn = engine.connect()"
   ]
  },
  {
   "cell_type": "code",
   "execution_count": 5,
   "metadata": {},
   "outputs": [],
   "source": [
    "from sqlalchemy.orm import Session\n",
    "session = Session(bind=engine)\n",
    "Base.metadata.create_all(engine)"
   ]
  },
  {
   "cell_type": "code",
   "execution_count": 6,
   "metadata": {},
   "outputs": [],
   "source": [
    "csv_path = 'clean_measurements.csv'\n",
    "measure1 = pd.read_csv(csv_path)\n",
    "measure1.to_sql(con=conn,name='Measurements', index_label='id',if_exists='replace')\n"
   ]
  },
  {
   "cell_type": "code",
   "execution_count": 7,
   "metadata": {},
   "outputs": [],
   "source": [
    "csv_path2 = 'hawaii_stations.csv'\n",
    "stations1 = pd.read_csv(csv_path2)\n",
    "stations1.to_sql(name='Stations',con=conn, index_label='id', if_exists='replace')"
   ]
  },
  {
   "cell_type": "code",
   "execution_count": 8,
   "metadata": {},
   "outputs": [
    {
     "data": {
      "text/plain": [
       "['Measurements', 'Stations']"
      ]
     },
     "execution_count": 8,
     "metadata": {},
     "output_type": "execute_result"
    }
   ],
   "source": [
    "inspector = inspect(engine)\n",
    "inspector.get_table_names()"
   ]
  },
  {
   "cell_type": "code",
   "execution_count": 9,
   "metadata": {},
   "outputs": [],
   "source": [
    "from sqlalchemy.ext.automap import automap_base"
   ]
  },
  {
   "cell_type": "code",
   "execution_count": 10,
   "metadata": {},
   "outputs": [],
   "source": [
    "# Declare a Base using `automap_base()`\n",
    "Base = automap_base()"
   ]
  },
  {
   "cell_type": "code",
   "execution_count": 11,
   "metadata": {},
   "outputs": [],
   "source": [
    "# Use the Base class to reflect the database tables\n",
    "Base.prepare(engine, reflect=True)"
   ]
  },
  {
   "cell_type": "code",
   "execution_count": 12,
   "metadata": {},
   "outputs": [
    {
     "data": {
      "text/plain": [
       "[]"
      ]
     },
     "execution_count": 12,
     "metadata": {},
     "output_type": "execute_result"
    }
   ],
   "source": [
    "# Print all of the classes mapped to the Base\n",
    "Base.classes.keys()"
   ]
  },
  {
   "cell_type": "code",
   "execution_count": null,
   "metadata": {},
   "outputs": [],
   "source": []
  }
 ],
 "metadata": {
  "kernelspec": {
   "display_name": "Python 3",
   "language": "python",
   "name": "python3"
  },
  "language_info": {
   "codemirror_mode": {
    "name": "ipython",
    "version": 3
   },
   "file_extension": ".py",
   "mimetype": "text/x-python",
   "name": "python",
   "nbconvert_exporter": "python",
   "pygments_lexer": "ipython3",
   "version": "3.6.4"
  }
 },
 "nbformat": 4,
 "nbformat_minor": 2
}
